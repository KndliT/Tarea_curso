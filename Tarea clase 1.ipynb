{
 "cells": [
  {
   "cell_type": "markdown",
   "id": "7204c34d-fe81-49e1-a967-3fda7349c4b2",
   "metadata": {},
   "source": [
    "# Tarea clase 1"
   ]
  },
  {
   "cell_type": "markdown",
   "id": "8ff54c98-1ef4-4f7d-adba-4274f4324490",
   "metadata": {},
   "source": [
    "### Ejercicio 1: Variables y tipos de datos\r\n",
    "Escribe un programa que solicite al usuario su nombre y edad, y luego imprima un mensaje que diga \"Hola, [nombre]. Tienes [edad] años.\"\r\n"
   ]
  },
  {
   "cell_type": "code",
   "execution_count": 5,
   "id": "9c75a9fe-795e-4c9e-a553-d7519a5e7c5d",
   "metadata": {},
   "outputs": [
    {
     "name": "stdout",
     "output_type": "stream",
     "text": [
      "Hola! ¿Quién está ahí?\n"
     ]
    },
    {
     "name": "stdin",
     "output_type": "stream",
     "text": [
      "Mi nombre es: NACHO\n",
      "Mi edad es: 21\n"
     ]
    },
    {
     "name": "stdout",
     "output_type": "stream",
     "text": [
      "Ah! Hola NACHO , así que tienes 21 años. Encantada de conocerte.\n"
     ]
    }
   ],
   "source": [
    "print(\"Hola! ¿Quién está ahí?\")\n",
    "nombre = input (\"Mi nombre es:\")\n",
    "edad = int(input(\"Mi edad es:\"))\n",
    "print(\"Ah! Hola\", nombre,\", así que tienes\", edad, \"años. Encantada de conocerte.\")"
   ]
  },
  {
   "cell_type": "markdown",
   "id": "7f49d207-ad83-4bb3-88e1-daac73f9be5a",
   "metadata": {},
   "source": [
    "### Ejercicio 2: Condicionales simples\n",
    "Escribe un programa que pida al usuario ingresar un número. Luego, verifica si ese número es positivo o negativo, e imprime un mensaje correspondiente.\n"
   ]
  },
  {
   "cell_type": "code",
   "execution_count": 4,
   "id": "220986ec-7d5f-4bfe-882f-edad9b6b7967",
   "metadata": {},
   "outputs": [
    {
     "name": "stdout",
     "output_type": "stream",
     "text": [
      "Por favor ingrese un número para analizar.\n"
     ]
    },
    {
     "name": "stdin",
     "output_type": "stream",
     "text": [
      "Número: 4\n"
     ]
    },
    {
     "name": "stdout",
     "output_type": "stream",
     "text": [
      "El número es positivo\n"
     ]
    }
   ],
   "source": [
    "print(\"Por favor ingrese un número para analizar.\")\n",
    "numero = int(input(\"Número:\"))\n",
    "if numero > 0:\n",
    "    print(\"El número es positivo\")\n",
    "else:\n",
    "    print(\"El número es negativo\")"
   ]
  },
  {
   "cell_type": "markdown",
   "id": "fe910c9f-4a2d-4d4f-b8c7-1d622081d956",
   "metadata": {},
   "source": [
    "### Ejercicio 3: Condicionales con if y else\r\n",
    "Crea un programa que solicite al usuario ingresar dos números. Luego, compara los dos números e imprime un mensaje que indique cuál de los dos números es mayor."
   ]
  },
  {
   "cell_type": "code",
   "execution_count": 3,
   "id": "f4742708-4fd5-463c-ac79-092ff51fc6f2",
   "metadata": {},
   "outputs": [
    {
     "name": "stdout",
     "output_type": "stream",
     "text": [
      "A continuación ingrese dos números, averiguaremos cuál de los dos es mayor.\n"
     ]
    },
    {
     "name": "stdin",
     "output_type": "stream",
     "text": [
      "Primer número: 43265\n",
      "Segundo número: 9857\n"
     ]
    },
    {
     "name": "stdout",
     "output_type": "stream",
     "text": [
      "43265 es mayor.\n"
     ]
    }
   ],
   "source": [
    "print(\"A continuación ingrese dos números, averiguaremos cuál de los dos es mayor.\")\n",
    "numero_1 = int(input(\"Primer número:\"))\n",
    "numero_2 = int(input(\"Segundo número:\"))\n",
    "if numero_1 > numero_2:\n",
    "    print(numero_1 ,\"es mayor.\")\n",
    "else:\n",
    "    print(numero_2, \"es mayor.\")\n"
   ]
  },
  {
   "cell_type": "markdown",
   "id": "3c596d8a-1faa-4bc6-91ce-dbf6225f1a69",
   "metadata": {},
   "source": [
    "### Ejercicio 4: Condicionales anidados (investigar)\r\n",
    "Escribe un programa que solicite al usuario ingresar su calificación en un examen (un número entre 0 y 100). Luego, determina si la calificación es A (90-100), B (80-89), C (70-79), D (60-69) o F (menos de 60) e imprime la calificación correspondient.e"
   ]
  },
  {
   "cell_type": "code",
   "execution_count": 2,
   "id": "18cc7e29-6a1f-4545-8063-ebad4d3d2409",
   "metadata": {},
   "outputs": [
    {
     "name": "stdout",
     "output_type": "stream",
     "text": [
      "Por favor ingresa tu calificación númerica.\n"
     ]
    },
    {
     "name": "stdin",
     "output_type": "stream",
     "text": [
      "Nota: 99\n"
     ]
    },
    {
     "name": "stdout",
     "output_type": "stream",
     "text": [
      "Tu calificación es A\n"
     ]
    }
   ],
   "source": [
    "print(\"Por favor ingresa tu calificación númerica.\")\n",
    "calificacion = float(input(\"Nota:\"))\n",
    "if  90 <= calificacion <= 100: \n",
    "    letra = \"A\"\n",
    "elif 80 <= calificacion < 90:\n",
    "    letra = \"B\"\n",
    "elif 70 <= calificacion < 80:\n",
    "    letra = \"C\"\n",
    "elif 60 <=  calificacion < 70:\n",
    "    letra = \"D\"\n",
    "else:\n",
    "    letra= \"F\"\n",
    "print(\"Tu calificación es\", letra)"
   ]
  },
  {
   "cell_type": "markdown",
   "id": "862fe1d7-781c-47f4-8133-7de4ff0e97e5",
   "metadata": {},
   "source": [
    "### Ejercicio 5 (investigar)\r\n",
    "¿Qué es un array en informática? \r\n",
    "¿Qué es un ciclo iterativo?"
   ]
  },
  {
   "cell_type": "markdown",
   "id": "77770134-5117-493b-aa63-f4e882250769",
   "metadata": {},
   "source": [
    "####  Array\n",
    "Un array en informática, también conocido como arreglo o lista, es una estructura de datos que permite almacenar un conjunto de elementos del mismo tipo en una secuencia ordenada. Cada elemento en un array se almacena en una posición específica dentro del arreglo y se accede mediante un índice. Los arrays son utilizados para organizar y manipular datos de manera eficiente en programas informáticos.ario."
   ]
  },
  {
   "cell_type": "markdown",
   "id": "341a62b2-9cc4-4870-8deb-c19cfcd8a9c5",
   "metadata": {},
   "source": [
    "##### Caracteristicas:"
   ]
  },
  {
   "cell_type": "markdown",
   "id": "f16e1d5b-4ead-494a-8bac-b6af69782163",
   "metadata": {},
   "source": [
    "- Tipo de Datos Uniforme: Todos los elementos en un array deben ser del mismo tipo de datos, como enteros, cadenas de texto o valores flotantes."
   ]
  },
  {
   "cell_type": "markdown",
   "id": "7acfbf67-c994-497b-a2c9-9b35ff7a0d71",
   "metadata": {},
   "source": [
    "- Índices: Los elementos de un array se acceden mediante índices numéricos que indican su posición en el arreglo. El índice comienza típicamente en 0 para el primer elemento."
   ]
  },
  {
   "cell_type": "markdown",
   "id": "bcbd3545-bc89-473b-af1e-1f4c738635b7",
   "metadata": {},
   "source": [
    "- Tamaño Fijo o Dinámico: Los arrays pueden tener un tamaño fijo, lo que significa que una vez que se crean, no pueden cambiar de tamaño. También existen estructuras de datos dinámicas, como las listas en Python, que pueden cambiar de tamaño según sea necesario."
   ]
  },
  {
   "cell_type": "markdown",
   "id": "03e9dbf3-7bf2-4f2d-87b1-66e69ccdebd8",
   "metadata": {},
   "source": [
    "#### Ciclo iterativo"
   ]
  },
  {
   "cell_type": "markdown",
   "id": "b923f6af-017b-41f1-923c-eaa80130f3d4",
   "metadata": {},
   "source": [
    "Un ciclo iterativo, a menudo simplemente llamado bucle o loop, es una estructura de control en programación que permite ejecutar un bloque de código repetidamente hasta que se cumpla una condición específica. Los bucles son fundamentales para la automatización de tareas repetitivas y para procesar colecciones de datos, como los elementos de un array. Los lenguajes de programación ofrecen diferentes tipos de bucles, como for y while, que se utilizan para diferentes situaciones."
   ]
  },
  {
   "cell_type": "code",
   "execution_count": null,
   "id": "0a54250e-cb65-478c-b853-45e6ad971ec4",
   "metadata": {},
   "outputs": [],
   "source": []
  }
 ],
 "metadata": {
  "kernelspec": {
   "display_name": "Python 3 (ipykernel)",
   "language": "python",
   "name": "python3"
  },
  "language_info": {
   "codemirror_mode": {
    "name": "ipython",
    "version": 3
   },
   "file_extension": ".py",
   "mimetype": "text/x-python",
   "name": "python",
   "nbconvert_exporter": "python",
   "pygments_lexer": "ipython3",
   "version": "3.11.5"
  }
 },
 "nbformat": 4,
 "nbformat_minor": 5
}
